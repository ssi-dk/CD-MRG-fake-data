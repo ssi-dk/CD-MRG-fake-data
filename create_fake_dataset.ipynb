{
 "cells": [
  {
   "attachments": {},
   "cell_type": "markdown",
   "metadata": {},
   "source": [
    "### Creating a fake case-control data set for neonatal metabolomics studies \n",
    "We often work with case control studies where the goal is to identify factors (metabolites) that may be associated/contribute to a certain medical condition. This is done by comparing patient/subjects who have the condition/disease (the \"cases\") with patients who do not have the condition/disease but are otherwise similar (the \"controls\"). \n",
    "\n",
    "In studies involving dry-blood spots sampled from newborns (as part of the national newborn screening program), controls are selected to have the same (or very close in time) date of birth as the cases. This is because the metabolimic profiles of newborns show a strong variation with season [***reference***?], possibly reflecting how the mother's  (and the rest of us) diet/ lifetyle varies depedning on the time of year it is. \n",
    "\n",
    "\n",
    "#### The code\n",
    "The code below will create a fake data set having the typical structure of a record listing sample subjects paired into case and control sample types. We create a pandas dataframe to allow nice visaulization of the data and to allow easy export to a csv and/or excel file. \n",
    "\n",
    "We create `n_pairs` of case and control pairs, all having a random date of birth within a defined minimum and maximum age. The maximum age difference between each pair can be defined; below we allow a maximum age difference of seven days, but months and years can also be chosen. \n",
    "\n",
    "We also define additional sub groups by assigning a random organ from a list of  `n_organ_groups`; this could perhaps be the tissue from were a certain condition is being monitored in the study. A random barcode is assigned to each subject, which could perhaps be an identifer used to identfy the sample in a biobank say. \n",
    "\n",
    "For all random data we use the [`Faker` library](https://faker.readthedocs.io/en/master/index.html), with the [faker-biology plugin](https://pypi.org/project/faker-biology/) available for Python. \n",
    "\n",
    "\n"
   ]
  },
  {
   "attachments": {},
   "cell_type": "markdown",
   "metadata": {},
   "source": [
    "### Setup libs"
   ]
  },
  {
   "cell_type": "code",
   "execution_count": 23,
   "metadata": {},
   "outputs": [],
   "source": [
    "import pandas as pd\n",
    "import numpy as np\n",
    "\n",
    "import faker\n",
    "from faker_biology.physiology import CellType, Organ, Organelle\n",
    "\n",
    "from dateutil.relativedelta import relativedelta\n",
    "\n",
    "\n",
    "# init fake object and load plugins\n",
    "fake = faker.Faker()\n",
    "\n",
    "# add organ data plugin \n",
    "fake.add_provider(Organ)\n",
    "\n",
    "# or organelle and celtype plugin\n",
    "# fake.add_provider(Organelle)\n",
    "# fake.add_provider(CellType)"
   ]
  },
  {
   "attachments": {},
   "cell_type": "markdown",
   "metadata": {},
   "source": [
    "### Set parameters"
   ]
  },
  {
   "cell_type": "code",
   "execution_count": 24,
   "metadata": {},
   "outputs": [],
   "source": [
    "# save\n",
    "save_to_excel = False\n",
    "\n",
    "# number of case control pairs in fake study \n",
    "n_pairs = 523 \n",
    "\n",
    "# age of subjects\n",
    "min_age = 15 # years\n",
    "max_age = 40 # years\n",
    "\n",
    "# max age difference between case and control\n",
    "max_diff_years = 0\n",
    "max_diff_months = 0\n",
    "max_diff_days = 7\n",
    "\n",
    "# number of sub groups; here organs to simulate some attribute of the disease/condition\n",
    "n_groups = 5\n",
    "organs = [fake.organ() for _ in range(0,n_groups)]\n",
    "\n",
    "variables = [\"pair_ID\", \"specimen_ID\", \"object\", \"date_of_birth\", \"barcode\", \"organ\"]\n",
    "\n",
    "# create dict to hold the fake data \n",
    "fake_data = {}\n",
    "for v in variables:\n",
    "    fake_data.setdefault(v, [])"
   ]
  },
  {
   "attachments": {},
   "cell_type": "markdown",
   "metadata": {},
   "source": [
    "### Create fake data"
   ]
  },
  {
   "cell_type": "code",
   "execution_count": 25,
   "metadata": {},
   "outputs": [],
   "source": [
    "for pair_id in range(0, n_pairs):\n",
    "    \n",
    "    case_control_organ = np.random.choice(organs)\n",
    "    \n",
    "    # Controls\n",
    "    dob_control = fake.date_of_birth(minimum_age=min_age, maximum_age=max_age)\n",
    "    spec_id_control = np.random.randint(1,n_pairs*2+1)\n",
    "    \n",
    "    fake_data[\"pair_ID\"].append(pair_id)\n",
    "    fake_data[\"object\"].append(\"Control\")\n",
    "    fake_data[\"specimen_ID\"].append(spec_id_control)\n",
    "    fake_data[\"date_of_birth\"].append(dob_control)\n",
    "    fake_data[\"barcode\"].append(fake.ean8())\n",
    "    fake_data[\"organ\"].append(case_control_organ)\n",
    "    \n",
    "    # Cases\n",
    "    dob_case = fake.date_between_dates(dob_control, \n",
    "                            dob_control + relativedelta(years=max_diff_years, \n",
    "                                          month=max_diff_months, \n",
    "                                          days=max_diff_days)\n",
    "                            )\n",
    "    \n",
    "    spec_id_case = spec_id_control + 1\n",
    "    \n",
    "    fake_data[\"pair_ID\"].append(pair_id)\n",
    "    fake_data[\"object\"].append(\"Case\")\n",
    "    fake_data[\"specimen_ID\"].append(spec_id_case)\n",
    "    fake_data[\"date_of_birth\"].append(dob_case)\n",
    "    fake_data[\"barcode\"].append(fake.ean8())\n",
    "    fake_data[\"organ\"].append(case_control_organ)"
   ]
  },
  {
   "cell_type": "code",
   "execution_count": 31,
   "metadata": {},
   "outputs": [
    {
     "name": "stderr",
     "output_type": "stream",
     "text": [
      "/tmp/ipykernel_811/3827897657.py:4: FutureWarning: As the xlwt package is no longer maintained, the xlwt engine will be removed in a future version of pandas. This is the only engine in pandas that supports writing in the xls format. Install openpyxl and write to an xlsx file instead. You can set the option io.excel.xls.writer to 'xlwt' to silence this warning. While this option is deprecated and will also raise a warning, it can be globally set and the warning suppressed.\n",
      "  fake_data_df.to_excel(filename)\n"
     ]
    },
    {
     "ename": "ModuleNotFoundError",
     "evalue": "No module named 'xlwt'",
     "output_type": "error",
     "traceback": [
      "\u001b[0;31m---------------------------------------------------------------------------\u001b[0m",
      "\u001b[0;31mModuleNotFoundError\u001b[0m                       Traceback (most recent call last)",
      "Cell \u001b[0;32mIn[31], line 4\u001b[0m\n\u001b[1;32m      1\u001b[0m fake_data_df \u001b[39m=\u001b[39m pd\u001b[39m.\u001b[39mDataFrame(fake_data)\n\u001b[1;32m      2\u001b[0m filename \u001b[39m=\u001b[39m \u001b[39mf\u001b[39m\u001b[39m\"\u001b[39m\u001b[39mfake_case_control_Npairs_\u001b[39m\u001b[39m{\u001b[39;00mn_pairs\u001b[39m}\u001b[39;00m\u001b[39m_Ngroups_\u001b[39m\u001b[39m{\u001b[39;00mn_groups\u001b[39m}\u001b[39;00m\u001b[39m.xls\u001b[39m\u001b[39m\"\u001b[39m\n\u001b[0;32m----> 4\u001b[0m fake_data_df\u001b[39m.\u001b[39;49mto_excel(filename)\n",
      "File \u001b[0;32m~/anaconda3/envs/general-ds/lib/python3.9/site-packages/pandas/util/_decorators.py:211\u001b[0m, in \u001b[0;36mdeprecate_kwarg.<locals>._deprecate_kwarg.<locals>.wrapper\u001b[0;34m(*args, **kwargs)\u001b[0m\n\u001b[1;32m    209\u001b[0m     \u001b[39melse\u001b[39;00m:\n\u001b[1;32m    210\u001b[0m         kwargs[new_arg_name] \u001b[39m=\u001b[39m new_arg_value\n\u001b[0;32m--> 211\u001b[0m \u001b[39mreturn\u001b[39;00m func(\u001b[39m*\u001b[39;49margs, \u001b[39m*\u001b[39;49m\u001b[39m*\u001b[39;49mkwargs)\n",
      "File \u001b[0;32m~/anaconda3/envs/general-ds/lib/python3.9/site-packages/pandas/util/_decorators.py:211\u001b[0m, in \u001b[0;36mdeprecate_kwarg.<locals>._deprecate_kwarg.<locals>.wrapper\u001b[0;34m(*args, **kwargs)\u001b[0m\n\u001b[1;32m    209\u001b[0m     \u001b[39melse\u001b[39;00m:\n\u001b[1;32m    210\u001b[0m         kwargs[new_arg_name] \u001b[39m=\u001b[39m new_arg_value\n\u001b[0;32m--> 211\u001b[0m \u001b[39mreturn\u001b[39;00m func(\u001b[39m*\u001b[39;49margs, \u001b[39m*\u001b[39;49m\u001b[39m*\u001b[39;49mkwargs)\n",
      "File \u001b[0;32m~/anaconda3/envs/general-ds/lib/python3.9/site-packages/pandas/core/generic.py:2374\u001b[0m, in \u001b[0;36mNDFrame.to_excel\u001b[0;34m(self, excel_writer, sheet_name, na_rep, float_format, columns, header, index, index_label, startrow, startcol, engine, merge_cells, encoding, inf_rep, verbose, freeze_panes, storage_options)\u001b[0m\n\u001b[1;32m   2361\u001b[0m \u001b[39mfrom\u001b[39;00m \u001b[39mpandas\u001b[39;00m\u001b[39m.\u001b[39;00m\u001b[39mio\u001b[39;00m\u001b[39m.\u001b[39;00m\u001b[39mformats\u001b[39;00m\u001b[39m.\u001b[39;00m\u001b[39mexcel\u001b[39;00m \u001b[39mimport\u001b[39;00m ExcelFormatter\n\u001b[1;32m   2363\u001b[0m formatter \u001b[39m=\u001b[39m ExcelFormatter(\n\u001b[1;32m   2364\u001b[0m     df,\n\u001b[1;32m   2365\u001b[0m     na_rep\u001b[39m=\u001b[39mna_rep,\n\u001b[0;32m   (...)\u001b[0m\n\u001b[1;32m   2372\u001b[0m     inf_rep\u001b[39m=\u001b[39minf_rep,\n\u001b[1;32m   2373\u001b[0m )\n\u001b[0;32m-> 2374\u001b[0m formatter\u001b[39m.\u001b[39;49mwrite(\n\u001b[1;32m   2375\u001b[0m     excel_writer,\n\u001b[1;32m   2376\u001b[0m     sheet_name\u001b[39m=\u001b[39;49msheet_name,\n\u001b[1;32m   2377\u001b[0m     startrow\u001b[39m=\u001b[39;49mstartrow,\n\u001b[1;32m   2378\u001b[0m     startcol\u001b[39m=\u001b[39;49mstartcol,\n\u001b[1;32m   2379\u001b[0m     freeze_panes\u001b[39m=\u001b[39;49mfreeze_panes,\n\u001b[1;32m   2380\u001b[0m     engine\u001b[39m=\u001b[39;49mengine,\n\u001b[1;32m   2381\u001b[0m     storage_options\u001b[39m=\u001b[39;49mstorage_options,\n\u001b[1;32m   2382\u001b[0m )\n",
      "File \u001b[0;32m~/anaconda3/envs/general-ds/lib/python3.9/site-packages/pandas/io/formats/excel.py:944\u001b[0m, in \u001b[0;36mExcelFormatter.write\u001b[0;34m(self, writer, sheet_name, startrow, startcol, freeze_panes, engine, storage_options)\u001b[0m\n\u001b[1;32m    940\u001b[0m     need_save \u001b[39m=\u001b[39m \u001b[39mFalse\u001b[39;00m\n\u001b[1;32m    941\u001b[0m \u001b[39melse\u001b[39;00m:\n\u001b[1;32m    942\u001b[0m     \u001b[39m# error: Cannot instantiate abstract class 'ExcelWriter' with abstract\u001b[39;00m\n\u001b[1;32m    943\u001b[0m     \u001b[39m# attributes 'engine', 'save', 'supported_extensions' and 'write_cells'\u001b[39;00m\n\u001b[0;32m--> 944\u001b[0m     writer \u001b[39m=\u001b[39m ExcelWriter(  \u001b[39m# type: ignore[abstract]\u001b[39;49;00m\n\u001b[1;32m    945\u001b[0m         writer, engine\u001b[39m=\u001b[39;49mengine, storage_options\u001b[39m=\u001b[39;49mstorage_options\n\u001b[1;32m    946\u001b[0m     )\n\u001b[1;32m    947\u001b[0m     need_save \u001b[39m=\u001b[39m \u001b[39mTrue\u001b[39;00m\n\u001b[1;32m    949\u001b[0m \u001b[39mtry\u001b[39;00m:\n",
      "File \u001b[0;32m~/anaconda3/envs/general-ds/lib/python3.9/site-packages/pandas/io/excel/_xlwt.py:48\u001b[0m, in \u001b[0;36mXlwtWriter.__init__\u001b[0;34m(self, path, engine, date_format, datetime_format, encoding, mode, storage_options, if_sheet_exists, engine_kwargs, **kwargs)\u001b[0m\n\u001b[1;32m     34\u001b[0m \u001b[39mdef\u001b[39;00m \u001b[39m__init__\u001b[39m(\n\u001b[1;32m     35\u001b[0m     \u001b[39mself\u001b[39m,\n\u001b[1;32m     36\u001b[0m     path: FilePath \u001b[39m|\u001b[39m WriteExcelBuffer \u001b[39m|\u001b[39m ExcelWriter,\n\u001b[0;32m   (...)\u001b[0m\n\u001b[1;32m     46\u001b[0m ) \u001b[39m-\u001b[39m\u001b[39m>\u001b[39m \u001b[39mNone\u001b[39;00m:\n\u001b[1;32m     47\u001b[0m     \u001b[39m# Use the xlwt module as the Excel writer.\u001b[39;00m\n\u001b[0;32m---> 48\u001b[0m     \u001b[39mimport\u001b[39;00m \u001b[39mxlwt\u001b[39;00m\n\u001b[1;32m     50\u001b[0m     engine_kwargs \u001b[39m=\u001b[39m combine_kwargs(engine_kwargs, kwargs)\n\u001b[1;32m     52\u001b[0m     \u001b[39mif\u001b[39;00m mode \u001b[39m==\u001b[39m \u001b[39m\"\u001b[39m\u001b[39ma\u001b[39m\u001b[39m\"\u001b[39m:\n",
      "\u001b[0;31mModuleNotFoundError\u001b[0m: No module named 'xlwt'"
     ]
    }
   ],
   "source": [
    "fake_data_df = pd.DataFrame(fake_data)\n",
    "\n",
    "if save_to_excel:\n",
    "    filename = f\"fake_case_control_Npairs_{n_pairs}_Ngroups_{n_groups}.xlsx\"\n",
    "    fake_data_df.to_excel(filename)"
   ]
  },
  {
   "cell_type": "code",
   "execution_count": 27,
   "metadata": {},
   "outputs": [
    {
     "data": {
      "text/plain": [
       "['Vas deferens',\n",
       " 'Cerebral hemispheres',\n",
       " 'Joints',\n",
       " 'Pancreas',\n",
       " 'Mammary glands']"
      ]
     },
     "execution_count": 27,
     "metadata": {},
     "output_type": "execute_result"
    }
   ],
   "source": [
    "organs"
   ]
  },
  {
   "cell_type": "code",
   "execution_count": null,
   "metadata": {},
   "outputs": [],
   "source": []
  }
 ],
 "metadata": {
  "kernelspec": {
   "display_name": "general-ds",
   "language": "python",
   "name": "python3"
  },
  "language_info": {
   "codemirror_mode": {
    "name": "ipython",
    "version": 3
   },
   "file_extension": ".py",
   "mimetype": "text/x-python",
   "name": "python",
   "nbconvert_exporter": "python",
   "pygments_lexer": "ipython3",
   "version": "3.9.16"
  },
  "orig_nbformat": 4,
  "vscode": {
   "interpreter": {
    "hash": "afb61e4cc29d6bfb9e023c3677106a94b3520794149733dc644e801f9fd778d1"
   }
  }
 },
 "nbformat": 4,
 "nbformat_minor": 2
}
